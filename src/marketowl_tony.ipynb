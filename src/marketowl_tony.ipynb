{
 "cells": [
  {
   "cell_type": "code",
   "execution_count": 1,
   "metadata": {},
   "outputs": [],
   "source": [
    "import time\n",
    "from sentiment import Sentiment\n",
    "from credibility import Credibility\n",
    "from utils.data import load_data"
   ]
  },
  {
   "cell_type": "code",
   "execution_count": 2,
   "metadata": {},
   "outputs": [],
   "source": [
    "def main(sentiment, credibility, data):\n",
    "    #fetch data - if nothing mentioned do for all three\n",
    "    if data is None:\n",
    "        df_transcript = load_data('transcripts.csv', 'transcript')\n",
    "        df_10k = load_data('10k.csv', '10k')\n",
    "        df_10q = load_data('10q.csv', '10q')\n",
    "\n",
    "        raise NotImplementedError\n",
    "        #perform sentiment anlaysis\n",
    "\n",
    "        #perform credibility analysis\n",
    "\n",
    "        #save results\n",
    "\n",
    "    else:\n",
    "        if data == 'transcript':\n",
    "            print(\"\\n\\nLoading transcript file...\")\n",
    "            df_transcript, text_col = load_data('transcripts.csv', 'transcript')\n",
    "            print(\"Loaded into dataframe of size\", df_transcript.shape)\n",
    "\n",
    "\n",
    "            #perform sentiment analysis\n",
    "            print(\"\\nPerforming sentiment analysis using method:\", sentiment)\n",
    "            st = time.time()\n",
    "            sentiment = Sentiment(method=sentiment)\n",
    "            sentiment.get_sentiment(df_transcript, text_col)\n",
    "            print(\"Total time taken for performing sentiment analysis\", time.time() - st)\n",
    "\n",
    "            #perform credibility analysis\n",
    "            st = time.time()\n",
    "            print(\"\\nPerforming credibility analysis using method:\", credibility)\n",
    "            credibility = Credibility(method=credibility)\n",
    "            credibility.get_credibility(df_transcript, text_col)\n",
    "            print(\"Total time taken for performing credbility analysis\", time.time() - st)\n",
    "\n",
    "            #save data checkpoints\n",
    "            print(\"\\nSaving sentiment & credibility result for transcript file...\\n\\n\")\n",
    "            df_transcript.to_csv('transcripts_analysis.csv')\n",
    "        elif data == '10k':\n",
    "            print(\"\\n\\nLoading transcript file...\")\n",
    "            df_10k, text_col = load_data('sec_10k.csv', '10k')\n",
    "            #print(\"Loaded into dataframe of size\", df_10k.shape)\n",
    "\n",
    "            #perform sentiment analysis\n",
    "            print(\"\\nPerforming sentiment analysis using method:\", sentiment)\n",
    "            sentiment = Sentiment(method=sentiment)\n",
    "            sentiment.get_sentiment(df_10k, text_col)\n",
    "\n",
    "            #perform credibility analysis\n",
    "            print(\"\\nPerforming credibility analysis using method:\", credibility)\n",
    "            credibility = Credibility(method=credibility)\n",
    "            credibility.get_credibility(df_10k, text_col)\n",
    "\n",
    "            #save data checkpoints\n",
    "            print(\"\\nSaving sentiment & credibility result for transcript file...\\n\\n\")\n",
    "            df_10k.to_csv('sec_10k_item1_analysis.csv')\n",
    "\n",
    "\n",
    "        elif data == '10q':\n",
    "            df_10q = load_data('10q.csv', '10q')\n",
    "            raise NotImplementedError"
   ]
  },
  {
   "cell_type": "code",
   "execution_count": null,
   "metadata": {},
   "outputs": [],
   "source": []
  }
 ],
 "metadata": {
  "kernelspec": {
   "display_name": "Python 3",
   "language": "python",
   "name": "python3"
  },
  "language_info": {
   "codemirror_mode": {
    "name": "ipython",
    "version": 3
   },
   "file_extension": ".py",
   "mimetype": "text/x-python",
   "name": "python",
   "nbconvert_exporter": "python",
   "pygments_lexer": "ipython3",
   "version": "3.8.5"
  }
 },
 "nbformat": 4,
 "nbformat_minor": 4
}
